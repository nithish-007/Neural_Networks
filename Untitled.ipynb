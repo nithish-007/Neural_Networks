{
 "cells": [
  {
   "cell_type": "code",
   "execution_count": 1,
   "id": "256214d5-8667-4d8f-a18d-075fc8aab25c",
   "metadata": {},
   "outputs": [],
   "source": [
    "import torch \n",
    "from torch.nn import functional as F\n",
    "x = [2, 3]"
   ]
  },
  {
   "cell_type": "code",
   "execution_count": 3,
   "id": "b8499ce2-63d6-456e-8084-f85175aab5ba",
   "metadata": {},
   "outputs": [],
   "source": [
    "import torch.nn as nn\n",
    "linear = nn.Linear(2,3)"
   ]
  },
  {
   "cell_type": "code",
   "execution_count": 10,
   "id": "35aed0ae-6547-4e85-9f1d-00c0a6dc696c",
   "metadata": {},
   "outputs": [
    {
     "data": {
      "text/plain": [
       "(Parameter containing:\n",
       " tensor([[-0.5020,  0.5357],\n",
       "         [-0.4221, -0.4709],\n",
       "         [ 0.6511,  0.5594]], requires_grad=True),\n",
       " '\\n',\n",
       " Parameter containing:\n",
       " tensor([-0.4278, -0.1369,  0.5813], requires_grad=True))"
      ]
     },
     "execution_count": 10,
     "metadata": {},
     "output_type": "execute_result"
    }
   ],
   "source": [
    "linear.weight, linear.bias"
   ]
  },
  {
   "cell_type": "code",
   "execution_count": 22,
   "id": "0e11ae95-2e0c-43f5-bbb5-e6012fbefaa1",
   "metadata": {},
   "outputs": [
    {
     "name": "stdout",
     "output_type": "stream",
     "text": [
      "weight Parameter containing:\n",
      "tensor([[1., 1.],\n",
      "        [1., 1.],\n",
      "        [1., 1.]], requires_grad=True) \n",
      "\n",
      "bias Parameter containing:\n",
      "tensor([0., 0., 0.], requires_grad=True) \n",
      "\n"
     ]
    }
   ],
   "source": [
    "linear.weight.data = torch.tensor([[1,1],\n",
    "                                 [1,1],\n",
    "                                 [1,1]], dtype = torch.float32)\n",
    "\n",
    "linear.bias.data = torch.tensor([0,0,0], dtype = torch.float32)\n",
    "for name, parameter in linear.named_parameters():\n",
    "    print(name, parameter, \"\\n\")"
   ]
  },
  {
   "cell_type": "code",
   "execution_count": 40,
   "id": "e9e98512-dd9c-4d1f-bc8e-9efcb24118a0",
   "metadata": {},
   "outputs": [
    {
     "data": {
      "text/plain": [
       "tensor([[2., 2., 2.],\n",
       "        [4., 4., 4.]], grad_fn=<AddmmBackward0>)"
      ]
     },
     "execution_count": 40,
     "metadata": {},
     "output_type": "execute_result"
    }
   ],
   "source": [
    "Input = torch.tensor([[1,1],\n",
    "                     [2,2]], dtype = torch.float32)\n",
    "\n",
    "linear(Input)"
   ]
  },
  {
   "cell_type": "code",
   "execution_count": 43,
   "id": "4f03e137-693f-40ff-8261-907ce5fea7e4",
   "metadata": {},
   "outputs": [
    {
     "data": {
      "text/plain": [
       "(True, True)"
      ]
     },
     "execution_count": 43,
     "metadata": {},
     "output_type": "execute_result"
    }
   ],
   "source": [
    "linear.weight.requires_grad, linear.bias.requires_grad"
   ]
  },
  {
   "cell_type": "code",
   "execution_count": null,
   "id": "1c6dd6a3-0de8-4fb1-aa1d-fa9b50b83b77",
   "metadata": {},
   "outputs": [],
   "source": []
  }
 ],
 "metadata": {
  "kernelspec": {
   "display_name": "Python 3 (ipykernel)",
   "language": "python",
   "name": "python3"
  },
  "language_info": {
   "codemirror_mode": {
    "name": "ipython",
    "version": 3
   },
   "file_extension": ".py",
   "mimetype": "text/x-python",
   "name": "python",
   "nbconvert_exporter": "python",
   "pygments_lexer": "ipython3",
   "version": "3.12.7"
  }
 },
 "nbformat": 4,
 "nbformat_minor": 5
}
