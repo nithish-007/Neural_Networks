{
 "cells": [
  {
   "cell_type": "code",
   "execution_count": 1,
   "metadata": {},
   "outputs": [],
   "source": [
    "import torch"
   ]
  },
  {
   "cell_type": "code",
   "execution_count": 11,
   "metadata": {},
   "outputs": [
    {
     "data": {
      "text/plain": [
       "tensor([0.0071, 0.0180, 0.0105, 0.0169, 0.0101, 0.0034, 0.0004, 0.0079, 0.0169,\n",
       "        0.0026, 0.0161, 0.0090, 0.0041, 0.0082, 0.0082, 0.0154, 0.0172, 0.0165,\n",
       "        0.0056, 0.0142, 0.0139, 0.0034, 0.0142, 0.0041, 0.0082, 0.0011, 0.0030,\n",
       "        0.0034, 0.0112, 0.0161, 0.0052, 0.0067, 0.0007, 0.0060, 0.0142, 0.0161,\n",
       "        0.0007, 0.0146, 0.0120, 0.0161, 0.0004, 0.0180, 0.0037, 0.0090, 0.0004,\n",
       "        0.0105, 0.0161, 0.0135, 0.0142, 0.0165, 0.0019, 0.0037, 0.0011, 0.0037,\n",
       "        0.0000, 0.0109, 0.0176, 0.0139, 0.0075, 0.0157, 0.0176, 0.0176, 0.0169,\n",
       "        0.0067, 0.0000, 0.0109, 0.0109, 0.0146, 0.0161, 0.0060, 0.0180, 0.0161,\n",
       "        0.0150, 0.0056, 0.0116, 0.0056, 0.0157, 0.0101, 0.0165, 0.0086, 0.0172,\n",
       "        0.0034, 0.0019, 0.0135, 0.0154, 0.0019, 0.0165, 0.0097, 0.0022, 0.0056,\n",
       "        0.0184, 0.0071, 0.0150, 0.0176, 0.0135, 0.0015, 0.0056, 0.0180, 0.0060,\n",
       "        0.0112])"
      ]
     },
     "execution_count": 11,
     "metadata": {},
     "output_type": "execute_result"
    }
   ],
   "source": [
    "P = torch.randint_like(torch.ones(100), 50)\n",
    "P /= P.sum()\n",
    "P"
   ]
  },
  {
   "cell_type": "code",
   "execution_count": 8,
   "metadata": {},
   "outputs": [
    {
     "data": {
      "text/plain": [
       "tensor([25])"
      ]
     },
     "execution_count": 8,
     "metadata": {},
     "output_type": "execute_result"
    }
   ],
   "source": [
    "g = torch.Generator().manual_seed(42)\n",
    "torch.multinomial(P, num_samples= 1, replacement= True, generator=g)"
   ]
  },
  {
   "cell_type": "code",
   "execution_count": null,
   "metadata": {},
   "outputs": [],
   "source": []
  }
 ],
 "metadata": {
  "kernelspec": {
   "display_name": "torch",
   "language": "python",
   "name": "python3"
  },
  "language_info": {
   "codemirror_mode": {
    "name": "ipython",
    "version": 3
   },
   "file_extension": ".py",
   "mimetype": "text/x-python",
   "name": "python",
   "nbconvert_exporter": "python",
   "pygments_lexer": "ipython3",
   "version": "3.12.7"
  }
 },
 "nbformat": 4,
 "nbformat_minor": 2
}
