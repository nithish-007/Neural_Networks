{
 "cells": [
  {
   "cell_type": "code",
   "execution_count": 1,
   "metadata": {},
   "outputs": [],
   "source": [
    "# data manipulation and visulization\n",
    "import numpy as np \n",
    "import matplotlib.pyplot as plt\n",
    "import seaborn as sns\n",
    "\n",
    "# pytorch\n",
    "import torch\n",
    "import torchvision\n",
    "from torchvision import transforms\n",
    "from torch import nn"
   ]
  },
  {
   "cell_type": "code",
   "execution_count": 2,
   "metadata": {},
   "outputs": [
    {
     "data": {
      "text/plain": [
       "device(type='cuda')"
      ]
     },
     "execution_count": 2,
     "metadata": {},
     "output_type": "execute_result"
    }
   ],
   "source": [
    "device = torch.device(\"cuda\" if torch.cuda.is_available() else \"cpu\")\n",
    "device"
   ]
  },
  {
   "cell_type": "code",
   "execution_count": 3,
   "metadata": {},
   "outputs": [],
   "source": [
    "train_transform = transforms.Compose(\n",
    "    [\n",
    "        transforms.RandomHorizontalFlip(p = 0.5),\n",
    "        transforms.ToTensor(),\n",
    "        transforms.Normalize((0.5,), (0.5,)),\n",
    "        \n",
    "    ]\n",
    ")\n",
    "\n",
    "test_transform = transforms.Compose(\n",
    "    [\n",
    "        transforms.RandomHorizontalFlip(p = 0.5),\n",
    "        transforms.ToTensor(),\n",
    "        transforms.Normalize((0.5,), (0.5,))\n",
    "        \n",
    "    ]\n",
    ")\n"
   ]
  },
  {
   "cell_type": "code",
   "execution_count": 4,
   "metadata": {},
   "outputs": [],
   "source": [
    "from torch.utils.data import DataLoader\n",
    "\n",
    "trainset = torchvision.datasets.FashionMNIST(root = \"./\",\n",
    "                                             train = True,\n",
    "                                             download = False,\n",
    "                                             transform= train_transform)\n",
    "testset = torchvision.datasets.FashionMNIST(root= \"./\",\n",
    "                                            train = False, \n",
    "                                            download = False,\n",
    "                                            transform= test_transform)\n",
    "\n",
    "train_dataloader = DataLoader(dataset= trainset,\n",
    "                              batch_size= 32,\n",
    "                              num_workers= 0,\n",
    "                              shuffle= True)\n",
    "\n",
    "test_dataloader = DataLoader(dataset= testset,\n",
    "                             batch_size= 32,\n",
    "                             num_workers= 0,\n",
    "                             shuffle= True)"
   ]
  },
  {
   "cell_type": "code",
   "execution_count": 5,
   "metadata": {},
   "outputs": [],
   "source": [
    "import torch\n",
    "import torch.nn as nn\n",
    "\n",
    "class TinyVGG(nn.Module):\n",
    "    def __init__(self, input_shape: int, hidden_units: int, output_shape: int):\n",
    "        super(TinyVGG, self).__init__()\n",
    "        self.conv_block_1 = nn.Sequential(\n",
    "            nn.Conv2d(in_channels=input_shape,\n",
    "                      out_channels=hidden_units,\n",
    "                      kernel_size=3,\n",
    "                      padding=1),\n",
    "            nn.ReLU(),\n",
    "            nn.Conv2d(in_channels=hidden_units,\n",
    "                      out_channels=hidden_units,\n",
    "                      kernel_size=3,\n",
    "                      padding=1),\n",
    "            nn.ReLU(),\n",
    "            nn.MaxPool2d(kernel_size=2, stride=2)\n",
    "        )\n",
    "\n",
    "        self.conv_block_2 = nn.Sequential(\n",
    "            nn.Conv2d(in_channels=hidden_units,\n",
    "                      out_channels=hidden_units,\n",
    "                      kernel_size=3,\n",
    "                      padding=1),\n",
    "            nn.ReLU(),\n",
    "            nn.Conv2d(in_channels=hidden_units,\n",
    "                      out_channels=hidden_units,\n",
    "                      kernel_size=3,\n",
    "                      padding=1),\n",
    "            nn.ReLU(),\n",
    "            nn.MaxPool2d(kernel_size=2, stride=2)  \n",
    "        )\n",
    "\n",
    "        self.feature_map_size = hidden_units * 7 * 7  \n",
    "\n",
    "        self.classifier = nn.Sequential(\n",
    "            nn.Flatten(),\n",
    "            nn.Linear(in_features=self.feature_map_size, out_features=output_shape)\n",
    "        )\n",
    "\n",
    "    def forward(self, x):\n",
    "        x = self.conv_block_1(x)\n",
    "        x = self.conv_block_2(x)\n",
    "        x = self.classifier(x)\n",
    "        return x\n"
   ]
  },
  {
   "cell_type": "code",
   "execution_count": 6,
   "metadata": {},
   "outputs": [
    {
     "name": "stdout",
     "output_type": "stream",
     "text": [
      "VGG-16 Summary: \n",
      " =================================================================\n",
      "Layer (type:depth-idx)                   Param #\n",
      "=================================================================\n",
      "TinyVGG                                  --\n",
      "├─Sequential: 1-1                        --\n",
      "│    └─Conv2d: 2-1                       640\n",
      "│    └─ReLU: 2-2                         --\n",
      "│    └─Conv2d: 2-3                       36,928\n",
      "│    └─ReLU: 2-4                         --\n",
      "│    └─MaxPool2d: 2-5                    --\n",
      "├─Sequential: 1-2                        --\n",
      "│    └─Conv2d: 2-6                       36,928\n",
      "│    └─ReLU: 2-7                         --\n",
      "│    └─Conv2d: 2-8                       36,928\n",
      "│    └─ReLU: 2-9                         --\n",
      "│    └─MaxPool2d: 2-10                   --\n",
      "├─Sequential: 1-3                        --\n",
      "│    └─Flatten: 2-11                     --\n",
      "│    └─Linear: 2-12                      31,370\n",
      "=================================================================\n",
      "Total params: 142,794\n",
      "Trainable params: 142,794\n",
      "Non-trainable params: 0\n",
      "================================================================= \n",
      "\n"
     ]
    }
   ],
   "source": [
    "model = TinyVGG(input_shape = 1,\n",
    "              hidden_units = 64, \n",
    "              output_shape = len(trainset.classes)).to(device)\n",
    "\n",
    "from torchinfo import summary\n",
    "print(\"VGG-16 Summary:\",\"\\n\",summary(model),\"\\n\")\n"
   ]
  },
  {
   "cell_type": "code",
   "execution_count": 7,
   "metadata": {},
   "outputs": [],
   "source": [
    "def train_step(model: torch.nn.Module,\n",
    "               dataloader: torch.utils.data.DataLoader,\n",
    "               loss_fn: torch.nn.Module,\n",
    "               optimizer: torch.optim.Optimizer):\n",
    "    \n",
    "    model.train()\n",
    "    train_loss, train_acc = 0, 0\n",
    "\n",
    "    for batch, (x,y) in enumerate(dataloader):\n",
    "        x, y = x.to(device), y.to(device)\n",
    "\n",
    "        y_pred = model(x)\n",
    "\n",
    "        loss = loss_fn(y_pred, y)\n",
    "        train_loss += loss.item()\n",
    "\n",
    "        optimizer.zero_grad()\n",
    "        loss.backward()\n",
    "\n",
    "        optimizer.step()\n",
    "\n",
    "        y_pred_class = torch.argmax(torch.softmax(y_pred, dim =1), dim = 1)\n",
    "        train_acc += (y_pred_class == y).sum().item() / len(y_pred_class)\n",
    "\n",
    "\n",
    "    # avg train loss and acc\n",
    "    train_loss = train_loss / len(dataloader)\n",
    "    train_acc = train_acc / len(dataloader)\n",
    "\n",
    "    return train_loss, train_acc\n",
    "\n",
    "def test_step(model: torch.nn.Module,\n",
    "            dataloader: torch.utils.data.DataLoader,\n",
    "            loss_fn: torch.nn.Module):\n",
    "    \n",
    "    model.eval()\n",
    "\n",
    "    test_loss, test_acc = 0,0\n",
    "\n",
    "    with torch.inference_mode():\n",
    "        for batch, (x,y) in enumerate(dataloader):\n",
    "            x, y = x.to(device), y.to(device)\n",
    "\n",
    "            test_y_pred = model(x)\n",
    "\n",
    "            loss = loss_fn(test_y_pred, y)\n",
    "            test_loss += loss\n",
    "\n",
    "            test_y_pred_class = torch.argmax(torch.softmax(test_y_pred, dim = 1), dim = 1)\n",
    "            test_acc += (test_y_pred_class == y).sum().item() / len(test_y_pred_class)\n",
    "\n",
    "    test_loss = test_loss / len(dataloader)\n",
    "    test_acc = test_acc / len(dataloader)\n",
    "\n",
    "    return test_loss, test_acc\n",
    "    "
   ]
  },
  {
   "cell_type": "code",
   "execution_count": 8,
   "metadata": {},
   "outputs": [],
   "source": [
    "class EarlyStopping:\n",
    "    def __init__(self, patience=5, delta=0):\n",
    "        self.patience = patience\n",
    "        self.delta = delta\n",
    "        self.best_score = None\n",
    "        self.early_stop = False\n",
    "        self.counter = 0\n",
    "        self.best_model_state = None\n",
    "\n",
    "    def __call__(self, val_loss, model):\n",
    "        score = -val_loss\n",
    "        if self.best_score is None:\n",
    "            self.best_score = score\n",
    "            self.best_model_state = model.state_dict()\n",
    "        elif score < self.best_score + self.delta:\n",
    "            self.counter += 1\n",
    "            if self.counter >= self.patience:\n",
    "                self.early_stop = True\n",
    "        else:\n",
    "            self.best_score = score\n",
    "            self.best_model_state = model.state_dict()\n",
    "            self.counter = 0\n",
    "\n",
    "    def load_best_model(self, model):\n",
    "        model.load_state_dict(self.best_model_state)\n"
   ]
  },
  {
   "cell_type": "code",
   "execution_count": 9,
   "metadata": {},
   "outputs": [],
   "source": [
    "from tqdm import tqdm \n",
    "from timeit import default_timer as timer \n",
    "\n",
    "def train(model:nn.Module,\n",
    "          train_dataloader: torch.utils.data.DataLoader,\n",
    "          test_dataloader: torch.utils.data.DataLoader,\n",
    "          optimizer: torch.optim.Optimizer,\n",
    "          loss_fn: torch.nn.Module,\n",
    "          epochs: int = 50):\n",
    "    \n",
    "    # create an empty results dir\n",
    "    results = {\"train_loss\":[],\n",
    "               \"test_loss\":[],\n",
    "               \"train_acc\":[],\n",
    "               \"test_acc\":[],\n",
    "               \"runtime\": None,\n",
    "               \"model\": None}\n",
    "    # Early stopping\n",
    "    early_stopping = EarlyStopping(patience=5, delta=0.01)\n",
    "    # loop for training an testing\n",
    "    start_time = timer()\n",
    "    for epoch in tqdm(range(epochs)):\n",
    "        train_loss, train_acc = train_step(model = model,\n",
    "                                           dataloader = train_dataloader,\n",
    "                                           loss_fn = loss_fn,\n",
    "                                           optimizer = optimizer)\n",
    "\n",
    "        test_loss, test_acc = test_step(model = model,\n",
    "                                        dataloader = test_dataloader,\n",
    "                                        loss_fn = loss_fn)\n",
    "\n",
    "        \n",
    "        print(\n",
    "            f\"epochs: {epoch+1} | train_loss: {train_loss} | train_acc: {train_acc} | test_loss: {test_loss} | test_acc: {test_acc}\"\n",
    "            )\n",
    "        \n",
    "        results[\"train_loss\"].append(train_loss.item() if isinstance(train_loss, torch.Tensor) else train_loss)\n",
    "        results[\"train_acc\"].append(train_acc.item() if isinstance(train_acc, torch.Tensor) else train_acc)\n",
    "        results[\"test_loss\"].append(test_loss.item() if isinstance(test_loss, torch.Tensor) else test_loss)\n",
    "        results[\"test_acc\"].append(test_acc.item() if isinstance(test_acc, torch.Tensor) else test_acc)\n",
    "        \n",
    "        early_stopping(test_loss, model)\n",
    "        if early_stopping.early_stop:\n",
    "            print(\"Early stopping\")\n",
    "            break\n",
    "    end_time = timer()\n",
    "\n",
    "    results[\"runtime\"] = f\"{end_time - start_time:.3f} seconds\"\n",
    "    \n",
    "    # load the best model for this optimizer \n",
    "    results[\"model\"] = early_stopping.load_best_model(model)\n",
    "    return results"
   ]
  },
  {
   "cell_type": "code",
   "execution_count": 10,
   "metadata": {},
   "outputs": [
    {
     "name": "stderr",
     "output_type": "stream",
     "text": [
      "optimizer count::   0%|          | 0/5 [00:00<?, ?it/s]"
     ]
    },
    {
     "name": "stdout",
     "output_type": "stream",
     "text": [
      "Training with SGD...\n"
     ]
    },
    {
     "name": "stderr",
     "output_type": "stream",
     "text": []
    },
    {
     "name": "stdout",
     "output_type": "stream",
     "text": [
      "epochs: 1 | train_loss: 1.6921770830790202 | train_acc: 0.3977 | test_loss: 0.8707225322723389 | test_acc: 0.6951876996805112\n"
     ]
    },
    {
     "name": "stderr",
     "output_type": "stream",
     "text": []
    },
    {
     "name": "stdout",
     "output_type": "stream",
     "text": [
      "epochs: 2 | train_loss: 0.7739626243114471 | train_acc: 0.7265333333333334 | test_loss: 0.7232730388641357 | test_acc: 0.740814696485623\n"
     ]
    },
    {
     "name": "stderr",
     "output_type": "stream",
     "text": []
    },
    {
     "name": "stdout",
     "output_type": "stream",
     "text": [
      "epochs: 3 | train_loss: 0.6810603660106659 | train_acc: 0.7576333333333334 | test_loss: 0.6885539889335632 | test_acc: 0.7492012779552716\n"
     ]
    },
    {
     "name": "stderr",
     "output_type": "stream",
     "text": []
    },
    {
     "name": "stdout",
     "output_type": "stream",
     "text": [
      "epochs: 4 | train_loss: 0.6153294547398885 | train_acc: 0.7823333333333333 | test_loss: 0.5978519320487976 | test_acc: 0.7926317891373802\n"
     ]
    },
    {
     "name": "stderr",
     "output_type": "stream",
     "text": []
    },
    {
     "name": "stdout",
     "output_type": "stream",
     "text": [
      "epochs: 5 | train_loss: 0.5663978200833003 | train_acc: 0.7996166666666666 | test_loss: 0.5537639856338501 | test_acc: 0.8055111821086262\n"
     ]
    },
    {
     "name": "stderr",
     "output_type": "stream",
     "text": []
    },
    {
     "name": "stdout",
     "output_type": "stream",
     "text": [
      "epochs: 6 | train_loss: 0.5294796648581823 | train_acc: 0.8127 | test_loss: 0.5248970985412598 | test_acc: 0.8167931309904153\n"
     ]
    },
    {
     "name": "stderr",
     "output_type": "stream",
     "text": []
    },
    {
     "name": "stdout",
     "output_type": "stream",
     "text": [
      "epochs: 7 | train_loss: 0.5032887727340063 | train_acc: 0.8220666666666666 | test_loss: 0.5319952964782715 | test_acc: 0.8158945686900958\n"
     ]
    },
    {
     "name": "stderr",
     "output_type": "stream",
     "text": []
    },
    {
     "name": "stdout",
     "output_type": "stream",
     "text": [
      "epochs: 8 | train_loss: 0.4810077961762746 | train_acc: 0.8296333333333333 | test_loss: 0.4913523495197296 | test_acc: 0.8297723642172524\n"
     ]
    },
    {
     "name": "stderr",
     "output_type": "stream",
     "text": []
    },
    {
     "name": "stdout",
     "output_type": "stream",
     "text": [
      "epochs: 9 | train_loss: 0.4634931069612503 | train_acc: 0.8356333333333333 | test_loss: 0.48318859934806824 | test_acc: 0.8260782747603834\n"
     ]
    },
    {
     "name": "stderr",
     "output_type": "stream",
     "text": []
    },
    {
     "name": "stdout",
     "output_type": "stream",
     "text": [
      "epochs: 10 | train_loss: 0.447788104112943 | train_acc: 0.8416833333333333 | test_loss: 0.46622633934020996 | test_acc: 0.8299720447284346\n"
     ]
    },
    {
     "name": "stderr",
     "output_type": "stream",
     "text": []
    },
    {
     "name": "stdout",
     "output_type": "stream",
     "text": [
      "epochs: 11 | train_loss: 0.43450991504589714 | train_acc: 0.8456833333333333 | test_loss: 0.4441271722316742 | test_acc: 0.8428514376996805\n"
     ]
    },
    {
     "name": "stderr",
     "output_type": "stream",
     "text": []
    },
    {
     "name": "stdout",
     "output_type": "stream",
     "text": [
      "epochs: 12 | train_loss: 0.42311601776281993 | train_acc: 0.84925 | test_loss: 0.45950186252593994 | test_acc: 0.8300718849840255\n"
     ]
    },
    {
     "name": "stderr",
     "output_type": "stream",
     "text": []
    },
    {
     "name": "stdout",
     "output_type": "stream",
     "text": [
      "epochs: 13 | train_loss: 0.41283269466161726 | train_acc: 0.8528166666666667 | test_loss: 0.4334317445755005 | test_acc: 0.8471445686900958\n"
     ]
    },
    {
     "name": "stderr",
     "output_type": "stream",
     "text": []
    },
    {
     "name": "stdout",
     "output_type": "stream",
     "text": [
      "epochs: 14 | train_loss: 0.4030968250791232 | train_acc: 0.8564 | test_loss: 0.4298892319202423 | test_acc: 0.8481429712460063\n"
     ]
    },
    {
     "name": "stderr",
     "output_type": "stream",
     "text": []
    },
    {
     "name": "stdout",
     "output_type": "stream",
     "text": [
      "epochs: 15 | train_loss: 0.3964749925851822 | train_acc: 0.85885 | test_loss: 0.41362765431404114 | test_acc: 0.8504392971246006\n"
     ]
    },
    {
     "name": "stderr",
     "output_type": "stream",
     "text": []
    },
    {
     "name": "stdout",
     "output_type": "stream",
     "text": [
      "epochs: 16 | train_loss: 0.38766448202927906 | train_acc: 0.8606 | test_loss: 0.424650639295578 | test_acc: 0.8489416932907349\n"
     ]
    },
    {
     "name": "stderr",
     "output_type": "stream",
     "text": []
    },
    {
     "name": "stdout",
     "output_type": "stream",
     "text": [
      "epochs: 17 | train_loss: 0.38097310504118603 | train_acc: 0.8631833333333333 | test_loss: 0.39767152070999146 | test_acc: 0.8607228434504792\n"
     ]
    },
    {
     "name": "stderr",
     "output_type": "stream",
     "text": []
    },
    {
     "name": "stdout",
     "output_type": "stream",
     "text": [
      "epochs: 18 | train_loss: 0.37648226737181345 | train_acc: 0.8659333333333333 | test_loss: 0.3945236802101135 | test_acc: 0.8594249201277955\n"
     ]
    },
    {
     "name": "stderr",
     "output_type": "stream",
     "text": []
    },
    {
     "name": "stdout",
     "output_type": "stream",
     "text": [
      "epochs: 19 | train_loss: 0.3698905672987302 | train_acc: 0.8686833333333334 | test_loss: 0.3914826214313507 | test_acc: 0.8550319488817891\n"
     ]
    },
    {
     "name": "stderr",
     "output_type": "stream",
     "text": []
    },
    {
     "name": "stdout",
     "output_type": "stream",
     "text": [
      "epochs: 20 | train_loss: 0.3638361403385798 | train_acc: 0.8694666666666667 | test_loss: 0.397196888923645 | test_acc: 0.8540335463258786\n"
     ]
    },
    {
     "name": "stderr",
     "output_type": "stream",
     "text": []
    },
    {
     "name": "stdout",
     "output_type": "stream",
     "text": [
      "epochs: 21 | train_loss: 0.3589227599600951 | train_acc: 0.8706833333333334 | test_loss: 0.39600953459739685 | test_acc: 0.858526357827476\n"
     ]
    },
    {
     "name": "stderr",
     "output_type": "stream",
     "text": [
      " 42%|████▏     | 21/50 [09:25<13:00, 26.91s/it]\n",
      "optimizer count::  20%|██        | 1/5 [09:25<37:40, 565.02s/it]"
     ]
    },
    {
     "name": "stdout",
     "output_type": "stream",
     "text": [
      "epochs: 22 | train_loss: 0.35515675243337946 | train_acc: 0.8721333333333333 | test_loss: 0.3910624086856842 | test_acc: 0.860323482428115\n",
      "Early stopping\n",
      "Training with RMSprop...\n"
     ]
    },
    {
     "name": "stderr",
     "output_type": "stream",
     "text": []
    },
    {
     "name": "stdout",
     "output_type": "stream",
     "text": [
      "epochs: 1 | train_loss: 0.45260767876505853 | train_acc: 0.842 | test_loss: 0.32837653160095215 | test_acc: 0.8803913738019169\n"
     ]
    },
    {
     "name": "stderr",
     "output_type": "stream",
     "text": []
    },
    {
     "name": "stdout",
     "output_type": "stream",
     "text": [
      "epochs: 2 | train_loss: 0.26725040696760016 | train_acc: 0.9030666666666667 | test_loss: 0.26510703563690186 | test_acc: 0.9074480830670927\n"
     ]
    },
    {
     "name": "stderr",
     "output_type": "stream",
     "text": []
    },
    {
     "name": "stdout",
     "output_type": "stream",
     "text": [
      "epochs: 3 | train_loss: 0.22866623226205507 | train_acc: 0.9186666666666666 | test_loss: 0.24370306730270386 | test_acc: 0.9131389776357828\n"
     ]
    },
    {
     "name": "stderr",
     "output_type": "stream",
     "text": []
    },
    {
     "name": "stdout",
     "output_type": "stream",
     "text": [
      "epochs: 4 | train_loss: 0.20529744680921236 | train_acc: 0.9254833333333333 | test_loss: 0.25359150767326355 | test_acc: 0.9096445686900958\n"
     ]
    },
    {
     "name": "stderr",
     "output_type": "stream",
     "text": []
    },
    {
     "name": "stdout",
     "output_type": "stream",
     "text": [
      "epochs: 5 | train_loss: 0.18916857822587094 | train_acc: 0.9316666666666666 | test_loss: 0.23954029381275177 | test_acc: 0.9134384984025559\n"
     ]
    },
    {
     "name": "stderr",
     "output_type": "stream",
     "text": []
    },
    {
     "name": "stdout",
     "output_type": "stream",
     "text": [
      "epochs: 6 | train_loss: 0.17566169933329026 | train_acc: 0.9370166666666667 | test_loss: 0.2700098156929016 | test_acc: 0.9104432907348243\n"
     ]
    },
    {
     "name": "stderr",
     "output_type": "stream",
     "text": []
    },
    {
     "name": "stdout",
     "output_type": "stream",
     "text": [
      "epochs: 7 | train_loss: 0.16622041684985162 | train_acc: 0.9401666666666667 | test_loss: 0.23324111104011536 | test_acc: 0.9206269968051118\n"
     ]
    },
    {
     "name": "stderr",
     "output_type": "stream",
     "text": []
    },
    {
     "name": "stdout",
     "output_type": "stream",
     "text": [
      "epochs: 8 | train_loss: 0.15522342399135233 | train_acc: 0.94485 | test_loss: 0.23986905813217163 | test_acc: 0.9197284345047924\n"
     ]
    },
    {
     "name": "stderr",
     "output_type": "stream",
     "text": []
    },
    {
     "name": "stdout",
     "output_type": "stream",
     "text": [
      "epochs: 9 | train_loss: 0.1473619904100895 | train_acc: 0.9463 | test_loss: 0.23193205893039703 | test_acc: 0.9241214057507987\n"
     ]
    },
    {
     "name": "stderr",
     "output_type": "stream",
     "text": []
    },
    {
     "name": "stdout",
     "output_type": "stream",
     "text": [
      "epochs: 10 | train_loss: 0.1413441452520589 | train_acc: 0.9497166666666667 | test_loss: 0.22988979518413544 | test_acc: 0.920826677316294\n"
     ]
    },
    {
     "name": "stderr",
     "output_type": "stream",
     "text": []
    },
    {
     "name": "stdout",
     "output_type": "stream",
     "text": [
      "epochs: 11 | train_loss: 0.13159964081694683 | train_acc: 0.9524833333333333 | test_loss: 0.2419624626636505 | test_acc: 0.920926517571885\n"
     ]
    },
    {
     "name": "stderr",
     "output_type": "stream",
     "text": [
      " 22%|██▏       | 11/50 [05:05<18:01, 27.74s/it]\n",
      "optimizer count::  40%|████      | 2/5 [14:30<20:36, 412.15s/it]"
     ]
    },
    {
     "name": "stdout",
     "output_type": "stream",
     "text": [
      "epochs: 12 | train_loss: 0.12602656158010164 | train_acc: 0.9540333333333333 | test_loss: 0.2474968433380127 | test_acc: 0.924520766773163\n",
      "Early stopping\n",
      "Training with Adam...\n"
     ]
    },
    {
     "name": "stderr",
     "output_type": "stream",
     "text": []
    },
    {
     "name": "stdout",
     "output_type": "stream",
     "text": [
      "epochs: 1 | train_loss: 0.40856476784944534 | train_acc: 0.8544666666666667 | test_loss: 0.31420180201530457 | test_acc: 0.889576677316294\n"
     ]
    },
    {
     "name": "stderr",
     "output_type": "stream",
     "text": []
    },
    {
     "name": "stdout",
     "output_type": "stream",
     "text": [
      "epochs: 2 | train_loss: 0.2619036990215381 | train_acc: 0.9063833333333333 | test_loss: 0.2612602114677429 | test_acc: 0.9054512779552716\n"
     ]
    },
    {
     "name": "stderr",
     "output_type": "stream",
     "text": []
    },
    {
     "name": "stdout",
     "output_type": "stream",
     "text": [
      "epochs: 3 | train_loss: 0.22180523952643078 | train_acc: 0.92025 | test_loss: 0.23546406626701355 | test_acc: 0.9150359424920128\n"
     ]
    },
    {
     "name": "stderr",
     "output_type": "stream",
     "text": []
    },
    {
     "name": "stdout",
     "output_type": "stream",
     "text": [
      "epochs: 4 | train_loss: 0.20015968756129343 | train_acc: 0.9278 | test_loss: 0.2534961402416229 | test_acc: 0.9084464856230032\n"
     ]
    },
    {
     "name": "stderr",
     "output_type": "stream",
     "text": []
    },
    {
     "name": "stdout",
     "output_type": "stream",
     "text": [
      "epochs: 5 | train_loss: 0.18469855129420756 | train_acc: 0.9324666666666667 | test_loss: 0.22202156484127045 | test_acc: 0.9221246006389776\n"
     ]
    },
    {
     "name": "stderr",
     "output_type": "stream",
     "text": []
    },
    {
     "name": "stdout",
     "output_type": "stream",
     "text": [
      "epochs: 6 | train_loss: 0.1703659071110189 | train_acc: 0.9389333333333333 | test_loss: 0.21841779351234436 | test_acc: 0.9230231629392971\n"
     ]
    },
    {
     "name": "stderr",
     "output_type": "stream",
     "text": []
    },
    {
     "name": "stdout",
     "output_type": "stream",
     "text": [
      "epochs: 7 | train_loss: 0.15961702856495977 | train_acc: 0.9414333333333333 | test_loss: 0.23940078914165497 | test_acc: 0.9212260383386581\n"
     ]
    },
    {
     "name": "stderr",
     "output_type": "stream",
     "text": []
    },
    {
     "name": "stdout",
     "output_type": "stream",
     "text": [
      "epochs: 8 | train_loss: 0.14916874850541353 | train_acc: 0.9452833333333334 | test_loss: 0.2343120276927948 | test_acc: 0.9224241214057508\n"
     ]
    },
    {
     "name": "stderr",
     "output_type": "stream",
     "text": []
    },
    {
     "name": "stdout",
     "output_type": "stream",
     "text": [
      "epochs: 9 | train_loss: 0.13901749202844998 | train_acc: 0.9495 | test_loss: 0.24190467596054077 | test_acc: 0.9178314696485623\n"
     ]
    },
    {
     "name": "stderr",
     "output_type": "stream",
     "text": [
      " 18%|█▊        | 9/50 [04:15<19:23, 28.38s/it]\n",
      "optimizer count::  60%|██████    | 3/5 [18:45<11:21, 340.56s/it]"
     ]
    },
    {
     "name": "stdout",
     "output_type": "stream",
     "text": [
      "epochs: 10 | train_loss: 0.13373989878706635 | train_acc: 0.9510333333333333 | test_loss: 0.24840869009494781 | test_acc: 0.9207268370607029\n",
      "Early stopping\n",
      "Training with Adagrad...\n"
     ]
    },
    {
     "name": "stderr",
     "output_type": "stream",
     "text": []
    },
    {
     "name": "stdout",
     "output_type": "stream",
     "text": [
      "epochs: 1 | train_loss: 0.5730221235990525 | train_acc: 0.7979333333333334 | test_loss: 0.4848022758960724 | test_acc: 0.8303714057507987\n"
     ]
    },
    {
     "name": "stderr",
     "output_type": "stream",
     "text": []
    },
    {
     "name": "stdout",
     "output_type": "stream",
     "text": [
      "epochs: 2 | train_loss: 0.44196601372162503 | train_acc: 0.8446833333333333 | test_loss: 0.44509047269821167 | test_acc: 0.8416533546325878\n"
     ]
    },
    {
     "name": "stderr",
     "output_type": "stream",
     "text": []
    },
    {
     "name": "stdout",
     "output_type": "stream",
     "text": [
      "epochs: 3 | train_loss: 0.4122348959048589 | train_acc: 0.8543833333333334 | test_loss: 0.4254654347896576 | test_acc: 0.8481429712460063\n"
     ]
    },
    {
     "name": "stderr",
     "output_type": "stream",
     "text": []
    },
    {
     "name": "stdout",
     "output_type": "stream",
     "text": [
      "epochs: 4 | train_loss: 0.39313659709294635 | train_acc: 0.86095 | test_loss: 0.40479978919029236 | test_acc: 0.8518370607028753\n"
     ]
    },
    {
     "name": "stderr",
     "output_type": "stream",
     "text": []
    },
    {
     "name": "stdout",
     "output_type": "stream",
     "text": [
      "epochs: 5 | train_loss: 0.3802221839348475 | train_acc: 0.8659 | test_loss: 0.39562535285949707 | test_acc: 0.8587260383386581\n"
     ]
    },
    {
     "name": "stderr",
     "output_type": "stream",
     "text": []
    },
    {
     "name": "stdout",
     "output_type": "stream",
     "text": [
      "epochs: 6 | train_loss: 0.3704853631456693 | train_acc: 0.8695 | test_loss: 0.3915848731994629 | test_acc: 0.860423322683706\n"
     ]
    },
    {
     "name": "stderr",
     "output_type": "stream",
     "text": []
    },
    {
     "name": "stdout",
     "output_type": "stream",
     "text": [
      "epochs: 7 | train_loss: 0.36229517923792204 | train_acc: 0.8720333333333333 | test_loss: 0.38174742460250854 | test_acc: 0.8630191693290735\n"
     ]
    },
    {
     "name": "stderr",
     "output_type": "stream",
     "text": []
    },
    {
     "name": "stdout",
     "output_type": "stream",
     "text": [
      "epochs: 8 | train_loss: 0.3547591924766699 | train_acc: 0.8745833333333334 | test_loss: 0.3745751678943634 | test_acc: 0.8671126198083067\n"
     ]
    },
    {
     "name": "stderr",
     "output_type": "stream",
     "text": []
    },
    {
     "name": "stdout",
     "output_type": "stream",
     "text": [
      "epochs: 9 | train_loss: 0.3501179478128751 | train_acc: 0.8766166666666667 | test_loss: 0.37154537439346313 | test_acc: 0.8673123003194888\n"
     ]
    },
    {
     "name": "stderr",
     "output_type": "stream",
     "text": []
    },
    {
     "name": "stdout",
     "output_type": "stream",
     "text": [
      "epochs: 10 | train_loss: 0.3431106348077456 | train_acc: 0.8789166666666667 | test_loss: 0.36665457487106323 | test_acc: 0.8689097444089456\n"
     ]
    },
    {
     "name": "stderr",
     "output_type": "stream",
     "text": []
    },
    {
     "name": "stdout",
     "output_type": "stream",
     "text": [
      "epochs: 11 | train_loss: 0.33815757435361543 | train_acc: 0.8796666666666667 | test_loss: 0.3666289150714874 | test_acc: 0.867611821086262\n"
     ]
    },
    {
     "name": "stderr",
     "output_type": "stream",
     "text": []
    },
    {
     "name": "stdout",
     "output_type": "stream",
     "text": [
      "epochs: 12 | train_loss: 0.33503891725540164 | train_acc: 0.8816833333333334 | test_loss: 0.361766517162323 | test_acc: 0.8728035143769968\n"
     ]
    },
    {
     "name": "stderr",
     "output_type": "stream",
     "text": []
    },
    {
     "name": "stdout",
     "output_type": "stream",
     "text": [
      "epochs: 13 | train_loss: 0.3311948223888874 | train_acc: 0.8837 | test_loss: 0.3549046218395233 | test_acc: 0.8693091054313099\n"
     ]
    },
    {
     "name": "stderr",
     "output_type": "stream",
     "text": []
    },
    {
     "name": "stdout",
     "output_type": "stream",
     "text": [
      "epochs: 14 | train_loss: 0.3268034429828326 | train_acc: 0.88475 | test_loss: 0.3516007661819458 | test_acc: 0.8741014376996805\n"
     ]
    },
    {
     "name": "stderr",
     "output_type": "stream",
     "text": []
    },
    {
     "name": "stdout",
     "output_type": "stream",
     "text": [
      "epochs: 15 | train_loss: 0.3237216753363609 | train_acc: 0.8858833333333334 | test_loss: 0.3481707274913788 | test_acc: 0.8773961661341853\n"
     ]
    },
    {
     "name": "stderr",
     "output_type": "stream",
     "text": []
    },
    {
     "name": "stdout",
     "output_type": "stream",
     "text": [
      "epochs: 16 | train_loss: 0.32022054107983905 | train_acc: 0.8865666666666666 | test_loss: 0.3454974889755249 | test_acc: 0.8763977635782748\n"
     ]
    },
    {
     "name": "stderr",
     "output_type": "stream",
     "text": []
    },
    {
     "name": "stdout",
     "output_type": "stream",
     "text": [
      "epochs: 17 | train_loss: 0.31760011476476985 | train_acc: 0.8883166666666666 | test_loss: 0.3460116684436798 | test_acc: 0.8740015974440895\n"
     ]
    },
    {
     "name": "stderr",
     "output_type": "stream",
     "text": []
    },
    {
     "name": "stdout",
     "output_type": "stream",
     "text": [
      "epochs: 18 | train_loss: 0.31498787498672803 | train_acc: 0.8882166666666667 | test_loss: 0.342387855052948 | test_acc: 0.8789936102236422\n"
     ]
    },
    {
     "name": "stderr",
     "output_type": "stream",
     "text": []
    },
    {
     "name": "stdout",
     "output_type": "stream",
     "text": [
      "epochs: 19 | train_loss: 0.31262426787217457 | train_acc: 0.8894333333333333 | test_loss: 0.33944812417030334 | test_acc: 0.8773961661341853\n"
     ]
    },
    {
     "name": "stderr",
     "output_type": "stream",
     "text": []
    },
    {
     "name": "stdout",
     "output_type": "stream",
     "text": [
      "epochs: 20 | train_loss: 0.3093763376613458 | train_acc: 0.8899166666666667 | test_loss: 0.3355638384819031 | test_acc: 0.8816892971246006\n"
     ]
    },
    {
     "name": "stderr",
     "output_type": "stream",
     "text": []
    },
    {
     "name": "stdout",
     "output_type": "stream",
     "text": [
      "epochs: 21 | train_loss: 0.30731459600329397 | train_acc: 0.8914833333333333 | test_loss: 0.3381119668483734 | test_acc: 0.8822883386581469\n"
     ]
    },
    {
     "name": "stderr",
     "output_type": "stream",
     "text": []
    },
    {
     "name": "stdout",
     "output_type": "stream",
     "text": [
      "epochs: 22 | train_loss: 0.3055804907361666 | train_acc: 0.8918 | test_loss: 0.3379596173763275 | test_acc: 0.8781948881789138\n"
     ]
    },
    {
     "name": "stderr",
     "output_type": "stream",
     "text": []
    },
    {
     "name": "stdout",
     "output_type": "stream",
     "text": [
      "epochs: 23 | train_loss: 0.30354309725562734 | train_acc: 0.8928666666666667 | test_loss: 0.3315948247909546 | test_acc: 0.8797923322683706\n"
     ]
    },
    {
     "name": "stderr",
     "output_type": "stream",
     "text": [
      " 46%|████▌     | 23/50 [10:12<11:59, 26.64s/it]\n",
      "optimizer count::  80%|████████  | 4/5 [28:58<07:28, 448.04s/it]"
     ]
    },
    {
     "name": "stdout",
     "output_type": "stream",
     "text": [
      "epochs: 24 | train_loss: 0.30191181417902313 | train_acc: 0.8931833333333333 | test_loss: 0.3335403800010681 | test_acc: 0.8792931309904153\n",
      "Early stopping\n",
      "Training with AdaDelta...\n"
     ]
    },
    {
     "name": "stderr",
     "output_type": "stream",
     "text": []
    },
    {
     "name": "stdout",
     "output_type": "stream",
     "text": [
      "epochs: 1 | train_loss: 2.2689557164510092 | train_acc: 0.20343333333333333 | test_loss: 2.173870325088501 | test_acc: 0.3367611821086262\n"
     ]
    },
    {
     "name": "stderr",
     "output_type": "stream",
     "text": []
    },
    {
     "name": "stdout",
     "output_type": "stream",
     "text": [
      "epochs: 2 | train_loss: 1.649642549832662 | train_acc: 0.5356 | test_loss: 1.1483509540557861 | test_acc: 0.6534544728434505\n"
     ]
    },
    {
     "name": "stderr",
     "output_type": "stream",
     "text": []
    },
    {
     "name": "stdout",
     "output_type": "stream",
     "text": [
      "epochs: 3 | train_loss: 0.984794481865565 | train_acc: 0.6820666666666667 | test_loss: 0.8970297574996948 | test_acc: 0.6944888178913738\n"
     ]
    },
    {
     "name": "stderr",
     "output_type": "stream",
     "text": []
    },
    {
     "name": "stdout",
     "output_type": "stream",
     "text": [
      "epochs: 4 | train_loss: 0.844073121436437 | train_acc: 0.7108166666666667 | test_loss: 0.823498010635376 | test_acc: 0.7123602236421726\n"
     ]
    },
    {
     "name": "stderr",
     "output_type": "stream",
     "text": []
    },
    {
     "name": "stdout",
     "output_type": "stream",
     "text": [
      "epochs: 5 | train_loss: 0.7856149783293406 | train_acc: 0.72695 | test_loss: 0.7827552556991577 | test_acc: 0.726138178913738\n"
     ]
    },
    {
     "name": "stderr",
     "output_type": "stream",
     "text": []
    },
    {
     "name": "stdout",
     "output_type": "stream",
     "text": [
      "epochs: 6 | train_loss: 0.7492019303003947 | train_acc: 0.7389333333333333 | test_loss: 0.7534919381141663 | test_acc: 0.739117412140575\n"
     ]
    },
    {
     "name": "stderr",
     "output_type": "stream",
     "text": []
    },
    {
     "name": "stdout",
     "output_type": "stream",
     "text": [
      "epochs: 7 | train_loss: 0.7204890836397807 | train_acc: 0.7508666666666667 | test_loss: 0.7306184768676758 | test_acc: 0.744508785942492\n"
     ]
    },
    {
     "name": "stderr",
     "output_type": "stream",
     "text": []
    },
    {
     "name": "stdout",
     "output_type": "stream",
     "text": [
      "epochs: 8 | train_loss: 0.6965606857776642 | train_acc: 0.7570833333333333 | test_loss: 0.7078496813774109 | test_acc: 0.7541932907348243\n"
     ]
    },
    {
     "name": "stderr",
     "output_type": "stream",
     "text": []
    },
    {
     "name": "stdout",
     "output_type": "stream",
     "text": [
      "epochs: 9 | train_loss: 0.6757268386522929 | train_acc: 0.76615 | test_loss: 0.689206063747406 | test_acc: 0.7571884984025559\n"
     ]
    },
    {
     "name": "stderr",
     "output_type": "stream",
     "text": []
    },
    {
     "name": "stdout",
     "output_type": "stream",
     "text": [
      "epochs: 10 | train_loss: 0.6567401195049286 | train_acc: 0.7717 | test_loss: 0.6700764298439026 | test_acc: 0.7644768370607029\n"
     ]
    },
    {
     "name": "stderr",
     "output_type": "stream",
     "text": []
    },
    {
     "name": "stdout",
     "output_type": "stream",
     "text": [
      "epochs: 11 | train_loss: 0.6394315606276194 | train_acc: 0.7776666666666666 | test_loss: 0.6520110964775085 | test_acc: 0.770367412140575\n"
     ]
    },
    {
     "name": "stderr",
     "output_type": "stream",
     "text": []
    },
    {
     "name": "stdout",
     "output_type": "stream",
     "text": [
      "epochs: 12 | train_loss: 0.6243920693556467 | train_acc: 0.7827333333333333 | test_loss: 0.6380104422569275 | test_acc: 0.7728634185303515\n"
     ]
    },
    {
     "name": "stderr",
     "output_type": "stream",
     "text": []
    },
    {
     "name": "stdout",
     "output_type": "stream",
     "text": [
      "epochs: 13 | train_loss: 0.6099381083965302 | train_acc: 0.7877166666666666 | test_loss: 0.6213773488998413 | test_acc: 0.7810503194888179\n"
     ]
    },
    {
     "name": "stderr",
     "output_type": "stream",
     "text": []
    },
    {
     "name": "stdout",
     "output_type": "stream",
     "text": [
      "epochs: 14 | train_loss: 0.5961560094912847 | train_acc: 0.79245 | test_loss: 0.6111435294151306 | test_acc: 0.7846445686900958\n"
     ]
    },
    {
     "name": "stderr",
     "output_type": "stream",
     "text": []
    },
    {
     "name": "stdout",
     "output_type": "stream",
     "text": [
      "epochs: 15 | train_loss: 0.5833641708930334 | train_acc: 0.7969166666666667 | test_loss: 0.5990966558456421 | test_acc: 0.7888378594249201\n"
     ]
    },
    {
     "name": "stderr",
     "output_type": "stream",
     "text": []
    },
    {
     "name": "stdout",
     "output_type": "stream",
     "text": [
      "epochs: 16 | train_loss: 0.5710781718413035 | train_acc: 0.8010833333333334 | test_loss: 0.5907489657402039 | test_acc: 0.7917332268370607\n"
     ]
    },
    {
     "name": "stderr",
     "output_type": "stream",
     "text": []
    },
    {
     "name": "stdout",
     "output_type": "stream",
     "text": [
      "epochs: 17 | train_loss: 0.560269776336352 | train_acc: 0.8048166666666666 | test_loss: 0.5756740570068359 | test_acc: 0.7985223642172524\n"
     ]
    },
    {
     "name": "stderr",
     "output_type": "stream",
     "text": []
    },
    {
     "name": "stdout",
     "output_type": "stream",
     "text": [
      "epochs: 18 | train_loss: 0.551128954410553 | train_acc: 0.8076333333333333 | test_loss: 0.5655861496925354 | test_acc: 0.8024161341853036\n"
     ]
    },
    {
     "name": "stderr",
     "output_type": "stream",
     "text": []
    },
    {
     "name": "stdout",
     "output_type": "stream",
     "text": [
      "epochs: 19 | train_loss: 0.5414131530284881 | train_acc: 0.8114 | test_loss: 0.5569822788238525 | test_acc: 0.8043130990415336\n"
     ]
    },
    {
     "name": "stderr",
     "output_type": "stream",
     "text": []
    },
    {
     "name": "stdout",
     "output_type": "stream",
     "text": [
      "epochs: 20 | train_loss: 0.5326885767300924 | train_acc: 0.8158 | test_loss: 0.5514262914657593 | test_acc: 0.8074081469648562\n"
     ]
    },
    {
     "name": "stderr",
     "output_type": "stream",
     "text": []
    },
    {
     "name": "stdout",
     "output_type": "stream",
     "text": [
      "epochs: 21 | train_loss: 0.5256697650114696 | train_acc: 0.8178 | test_loss: 0.5435912609100342 | test_acc: 0.8099041533546326\n"
     ]
    },
    {
     "name": "stderr",
     "output_type": "stream",
     "text": []
    },
    {
     "name": "stdout",
     "output_type": "stream",
     "text": [
      "epochs: 22 | train_loss: 0.5175065495808919 | train_acc: 0.8196 | test_loss: 0.5373568534851074 | test_acc: 0.8102036741214057\n"
     ]
    },
    {
     "name": "stderr",
     "output_type": "stream",
     "text": []
    },
    {
     "name": "stdout",
     "output_type": "stream",
     "text": [
      "epochs: 23 | train_loss: 0.5114569816629092 | train_acc: 0.8229166666666666 | test_loss: 0.5292429327964783 | test_acc: 0.8148961661341853\n"
     ]
    },
    {
     "name": "stderr",
     "output_type": "stream",
     "text": []
    },
    {
     "name": "stdout",
     "output_type": "stream",
     "text": [
      "epochs: 24 | train_loss: 0.5052953571399053 | train_acc: 0.8247833333333333 | test_loss: 0.524497926235199 | test_acc: 0.8166932907348243\n"
     ]
    },
    {
     "name": "stderr",
     "output_type": "stream",
     "text": []
    },
    {
     "name": "stdout",
     "output_type": "stream",
     "text": [
      "epochs: 25 | train_loss: 0.4997851704041163 | train_acc: 0.8265666666666667 | test_loss: 0.5204735994338989 | test_acc: 0.8189896166134185\n"
     ]
    },
    {
     "name": "stderr",
     "output_type": "stream",
     "text": []
    },
    {
     "name": "stdout",
     "output_type": "stream",
     "text": [
      "epochs: 26 | train_loss: 0.4945415603955587 | train_acc: 0.8283833333333334 | test_loss: 0.513999879360199 | test_acc: 0.8197883386581469\n"
     ]
    },
    {
     "name": "stderr",
     "output_type": "stream",
     "text": []
    },
    {
     "name": "stdout",
     "output_type": "stream",
     "text": [
      "epochs: 27 | train_loss: 0.48925696946779884 | train_acc: 0.8304 | test_loss: 0.5072141885757446 | test_acc: 0.8218849840255591\n"
     ]
    },
    {
     "name": "stderr",
     "output_type": "stream",
     "text": []
    },
    {
     "name": "stdout",
     "output_type": "stream",
     "text": [
      "epochs: 28 | train_loss: 0.48393954380750653 | train_acc: 0.83215 | test_loss: 0.5033023953437805 | test_acc: 0.8228833865814696\n"
     ]
    },
    {
     "name": "stderr",
     "output_type": "stream",
     "text": []
    },
    {
     "name": "stdout",
     "output_type": "stream",
     "text": [
      "epochs: 29 | train_loss: 0.4791836842974027 | train_acc: 0.8339 | test_loss: 0.5020359754562378 | test_acc: 0.8199880191693291\n"
     ]
    },
    {
     "name": "stderr",
     "output_type": "stream",
     "text": []
    },
    {
     "name": "stdout",
     "output_type": "stream",
     "text": [
      "epochs: 30 | train_loss: 0.47569466401735944 | train_acc: 0.8347166666666667 | test_loss: 0.4952661693096161 | test_acc: 0.828973642172524\n"
     ]
    },
    {
     "name": "stderr",
     "output_type": "stream",
     "text": []
    },
    {
     "name": "stdout",
     "output_type": "stream",
     "text": [
      "epochs: 31 | train_loss: 0.4715890929102898 | train_acc: 0.8374333333333334 | test_loss: 0.4922555983066559 | test_acc: 0.827076677316294\n"
     ]
    },
    {
     "name": "stderr",
     "output_type": "stream",
     "text": []
    },
    {
     "name": "stdout",
     "output_type": "stream",
     "text": [
      "epochs: 32 | train_loss: 0.46754598592917124 | train_acc: 0.8379833333333333 | test_loss: 0.4871613681316376 | test_acc: 0.8304712460063898\n"
     ]
    },
    {
     "name": "stderr",
     "output_type": "stream",
     "text": []
    },
    {
     "name": "stdout",
     "output_type": "stream",
     "text": [
      "epochs: 33 | train_loss: 0.4642092815796534 | train_acc: 0.8379 | test_loss: 0.48474204540252686 | test_acc: 0.8298722044728435\n"
     ]
    },
    {
     "name": "stderr",
     "output_type": "stream",
     "text": []
    },
    {
     "name": "stdout",
     "output_type": "stream",
     "text": [
      "epochs: 34 | train_loss: 0.4599478672623634 | train_acc: 0.8410833333333333 | test_loss: 0.4816018342971802 | test_acc: 0.8311701277955271\n"
     ]
    },
    {
     "name": "stderr",
     "output_type": "stream",
     "text": []
    },
    {
     "name": "stdout",
     "output_type": "stream",
     "text": [
      "epochs: 35 | train_loss: 0.45674232599337894 | train_acc: 0.8416166666666667 | test_loss: 0.47960400581359863 | test_acc: 0.8316693290734825\n"
     ]
    },
    {
     "name": "stderr",
     "output_type": "stream",
     "text": []
    },
    {
     "name": "stdout",
     "output_type": "stream",
     "text": [
      "epochs: 36 | train_loss: 0.4531208554983139 | train_acc: 0.84295 | test_loss: 0.4728136956691742 | test_acc: 0.8334664536741214\n"
     ]
    },
    {
     "name": "stderr",
     "output_type": "stream",
     "text": []
    },
    {
     "name": "stdout",
     "output_type": "stream",
     "text": [
      "epochs: 37 | train_loss: 0.4502144724210103 | train_acc: 0.84415 | test_loss: 0.47215503454208374 | test_acc: 0.8351637380191693\n"
     ]
    },
    {
     "name": "stderr",
     "output_type": "stream",
     "text": []
    },
    {
     "name": "stdout",
     "output_type": "stream",
     "text": [
      "epochs: 38 | train_loss: 0.4473126930554708 | train_acc: 0.8449333333333333 | test_loss: 0.4682479202747345 | test_acc: 0.8370607028753994\n"
     ]
    },
    {
     "name": "stderr",
     "output_type": "stream",
     "text": []
    },
    {
     "name": "stdout",
     "output_type": "stream",
     "text": [
      "epochs: 39 | train_loss: 0.4447644064863523 | train_acc: 0.8454166666666667 | test_loss: 0.4663752615451813 | test_acc: 0.8383586261980831\n"
     ]
    },
    {
     "name": "stderr",
     "output_type": "stream",
     "text": []
    },
    {
     "name": "stdout",
     "output_type": "stream",
     "text": [
      "epochs: 40 | train_loss: 0.44177364207108816 | train_acc: 0.8474333333333334 | test_loss: 0.4633066952228546 | test_acc: 0.8362619808306709\n"
     ]
    },
    {
     "name": "stderr",
     "output_type": "stream",
     "text": []
    },
    {
     "name": "stdout",
     "output_type": "stream",
     "text": [
      "epochs: 41 | train_loss: 0.43934630812009173 | train_acc: 0.8481833333333333 | test_loss: 0.4609009325504303 | test_acc: 0.8377595846645367\n"
     ]
    },
    {
     "name": "stderr",
     "output_type": "stream",
     "text": []
    },
    {
     "name": "stdout",
     "output_type": "stream",
     "text": [
      "epochs: 42 | train_loss: 0.4364642297188441 | train_acc: 0.8493 | test_loss: 0.45732179284095764 | test_acc: 0.8401557507987221\n"
     ]
    },
    {
     "name": "stderr",
     "output_type": "stream",
     "text": []
    },
    {
     "name": "stdout",
     "output_type": "stream",
     "text": [
      "epochs: 43 | train_loss: 0.4342744988640149 | train_acc: 0.84875 | test_loss: 0.45731014013290405 | test_acc: 0.8408546325878594\n"
     ]
    },
    {
     "name": "stderr",
     "output_type": "stream",
     "text": []
    },
    {
     "name": "stdout",
     "output_type": "stream",
     "text": [
      "epochs: 44 | train_loss: 0.4315052543203036 | train_acc: 0.8498166666666667 | test_loss: 0.4543035328388214 | test_acc: 0.84185303514377\n"
     ]
    },
    {
     "name": "stderr",
     "output_type": "stream",
     "text": []
    },
    {
     "name": "stdout",
     "output_type": "stream",
     "text": [
      "epochs: 45 | train_loss: 0.42924025150140127 | train_acc: 0.8516166666666667 | test_loss: 0.45123061537742615 | test_acc: 0.8416533546325878\n"
     ]
    },
    {
     "name": "stderr",
     "output_type": "stream",
     "text": []
    },
    {
     "name": "stdout",
     "output_type": "stream",
     "text": [
      "epochs: 46 | train_loss: 0.4275048258105914 | train_acc: 0.8517666666666667 | test_loss: 0.4493304193019867 | test_acc: 0.8408546325878594\n"
     ]
    },
    {
     "name": "stderr",
     "output_type": "stream",
     "text": []
    },
    {
     "name": "stdout",
     "output_type": "stream",
     "text": [
      "epochs: 47 | train_loss: 0.4255424580891927 | train_acc: 0.8516166666666667 | test_loss: 0.44630447030067444 | test_acc: 0.8421525559105432\n"
     ]
    },
    {
     "name": "stderr",
     "output_type": "stream",
     "text": []
    },
    {
     "name": "stdout",
     "output_type": "stream",
     "text": [
      "epochs: 48 | train_loss: 0.4233235751628876 | train_acc: 0.8524833333333334 | test_loss: 0.4440195560455322 | test_acc: 0.8481429712460063\n"
     ]
    },
    {
     "name": "stderr",
     "output_type": "stream",
     "text": []
    },
    {
     "name": "stdout",
     "output_type": "stream",
     "text": [
      "epochs: 49 | train_loss: 0.42083557956616086 | train_acc: 0.85425 | test_loss: 0.4429782032966614 | test_acc: 0.8460463258785943\n"
     ]
    },
    {
     "name": "stderr",
     "output_type": "stream",
     "text": [
      "100%|██████████| 50/50 [21:15<00:00, 25.51s/it]\n",
      "optimizer count:: 100%|██████████| 5/5 [50:13<00:00, 602.73s/it]"
     ]
    },
    {
     "name": "stdout",
     "output_type": "stream",
     "text": [
      "epochs: 50 | train_loss: 0.4190667140007019 | train_acc: 0.8552166666666666 | test_loss: 0.4432852268218994 | test_acc: 0.84375\n",
      "total training time: 3013.679 seconds\n"
     ]
    },
    {
     "name": "stderr",
     "output_type": "stream",
     "text": [
      "\n"
     ]
    }
   ],
   "source": [
    "torch.manual_seed(42)\n",
    "torch.cuda.manual_seed(42)\n",
    "\n",
    "num_epochs = 50\n",
    "\n",
    "loss_fn = nn.CrossEntropyLoss()\n",
    "optimizer = {\n",
    "    \"SGD\": lambda params: torch.optim.SGD(params, lr = 0.001),\n",
    "    \"RMSprop\": lambda params: torch.optim.RMSprop(params, lr = 0.001),\n",
    "    \"Adam\": lambda params: torch.optim.Adam(params, lr = 0.001),\n",
    "    \"Adagrad\": lambda params: torch.optim.Adagrad(params, lr = 0.001),\n",
    "    \"AdaDelta\": lambda params: torch.optim.Adadelta(params, lr = 0.001)\n",
    "}\n",
    "\n",
    "opt_results = {}\n",
    "for opt_name, opt_func in tqdm(optimizer.items(), desc = \"optimizer count:\"):\n",
    "    print(f\"Training with {opt_name}...\")\n",
    "\n",
    "    model = TinyVGG(input_shape = 1,\n",
    "              hidden_units = 64, \n",
    "              output_shape = len(trainset.classes)).to(device)\n",
    "    model_reults = train(model = model,\n",
    "                        train_dataloader= train_dataloader,\n",
    "                        test_dataloader= test_dataloader,\n",
    "                        loss_fn= loss_fn,\n",
    "                        optimizer= opt_func(model.parameters()),\n",
    "                        epochs= num_epochs)\n",
    "    opt_results[opt_name] = model_reults"
   ]
  },
  {
   "cell_type": "code",
   "execution_count": null,
   "metadata": {},
   "outputs": [
    {
     "data": {
      "image/png": "[encoded data removed]",
      "text/plain": [
       "<Figure size 1200x1000 with 4 Axes>"
      ]
     },
     "metadata": {},
     "output_type": "display_data"
    }
   ],
   "source": [
    "plt.figure(figsize=(12, 10))\n",
    "\n",
    "# Plot training loss\n",
    "plt.subplot(2, 2, 1)\n",
    "for opt_name, result in opt_results.items():\n",
    "    plt.plot(result['train_loss'], label=f\"{opt_name} Train Loss\")\n",
    "plt.title(\"Training Loss\")\n",
    "plt.xlabel(\"Epoch\")\n",
    "plt.ylabel(\"Loss\")\n",
    "plt.legend()\n",
    "plt.grid(True)\n",
    "\n",
    "# Plot test loss\n",
    "plt.subplot(2, 2, 2)\n",
    "for opt_name, result in opt_results.items():\n",
    "    plt.plot(result[\"test_loss\"], label=f\"{opt_name} Test Loss\")\n",
    "plt.title(\"Test Loss\")\n",
    "plt.xlabel(\"Epoch\")\n",
    "plt.ylabel(\"Loss\")\n",
    "plt.legend()\n",
    "plt.grid(True)\n",
    "\n",
    "# Plot training accuracy\n",
    "plt.subplot(2, 2, 3)\n",
    "for opt_name, result in opt_results.items():\n",
    "    plt.plot(result['train_acc'], label=f\"{opt_name} Train Accuracy\")\n",
    "plt.title(\"Training Accuracy\")\n",
    "plt.xlabel(\"Epoch\")\n",
    "plt.ylabel(\"Accuracy\")\n",
    "plt.legend()\n",
    "plt.grid(True)\n",
    "\n",
    "# Plot test accuracy\n",
    "plt.subplot(2, 2, 4)\n",
    "for opt_name, result in opt_results.items():\n",
    "    plt.plot(result['test_acc'], label=f\"{opt_name} Test Accuracy\")\n",
    "plt.title(\"Test Accuracy\")\n",
    "plt.xlabel(\"Epoch\")\n",
    "plt.ylabel(\"Accuracy\")\n",
    "plt.legend()\n",
    "plt.grid(True)\n",
    "\n",
    "plt.tight_layout()\n",
    "plt.show()\n",
    "\n",
    "\n",
    "for opt_name, result in opt_results.items():\n",
    "    print(f\"Runtime of {opt_name}: {result[\"runtime\"]}\")"
   ]
  },
  {
   "cell_type": "code",
   "execution_count": 31,
   "metadata": {},
   "outputs": [
    {
     "data": {
      "text/plain": [
       "' \\n* Adam and RMSProp gives us a good results \\n'"
      ]
     },
     "execution_count": 31,
     "metadata": {},
     "output_type": "execute_result"
    }
   ],
   "source": [
    "\"\"\" \n",
    "* Adam and RMSProp gives us a good results \n",
    "\"\"\""
   ]
  },
  {
   "cell_type": "code",
   "execution_count": 17,
   "metadata": {},
   "outputs": [
    {
     "data": {
      "image/png": "[encoded data removed]",
      "text/plain": [
       "<Figure size 1000x600 with 2 Axes>"
      ]
     },
     "metadata": {},
     "output_type": "display_data"
    }
   ],
   "source": [
    "import numpy as np\n",
    "import matplotlib.pyplot as plt\n",
    "from matplotlib.ticker import MaxNLocator\n",
    "\n",
    "# Prepare data for contour plot\n",
    "optimizers = list(opt_results.keys())\n",
    "num_epochs = max(len(opt_results[opt_name]['train_loss']) for opt_name in optimizers)\n",
    "epochs = list(range(1, num_epochs + 1))\n",
    "\n",
    "# Pad losses to ensure they have the same length\n",
    "padded_losses = []\n",
    "for opt_name in optimizers:\n",
    "    losses = opt_results[opt_name]['train_loss']\n",
    "    padded_losses.append(losses + [None] * (num_epochs - len(losses)))\n",
    "\n",
    "# Convert to a 2D array, using `nan` for missing values\n",
    "loss_matrix = np.array(padded_losses, dtype=float)\n",
    "loss_matrix[np.isnan(loss_matrix)] = np.nan  # Replace None with nan for plotting\n",
    "\n",
    "# Create a contour plot\n",
    "plt.figure(figsize=(10, 6))\n",
    "X, Y = np.meshgrid(epochs, range(len(optimizers)))  # Grid for epochs and optimizers\n",
    "Z = loss_matrix\n",
    "\n",
    "# Plot the contour map\n",
    "contour = plt.contourf(X, Y, Z, cmap='viridis', levels=20)\n",
    "plt.colorbar(contour)\n",
    "\n",
    "# Add labels\n",
    "plt.title(\"Training Loss Contour Map\")\n",
    "plt.xlabel(\"Epoch\")\n",
    "plt.ylabel(\"Optimizer\")\n",
    "plt.yticks(range(len(optimizers)), optimizers)\n",
    "plt.xticks(epochs)\n",
    "plt.grid(True, linestyle='--', alpha=0.6)\n",
    "\n",
    "plt.show()\n"
   ]
  },
  {
   "cell_type": "code",
   "execution_count": 30,
   "metadata": {},
   "outputs": [
    {
     "data": {
      "image/png": "[encoded data removed]",
      "text/plain": [
       "<Figure size 1000x600 with 2 Axes>"
      ]
     },
     "metadata": {},
     "output_type": "display_data"
    }
   ],
   "source": [
    "import numpy as np\n",
    "import matplotlib.pyplot as plt\n",
    "\n",
    "# Prepare data for contour plot\n",
    "optimizers = list(opt_results.keys())\n",
    "num_epochs = max(len(opt_results[opt_name]['train_loss']) for opt_name in optimizers)\n",
    "epochs = np.linspace(1, num_epochs, 100)  # Create a finer grid for epochs\n",
    "\n",
    "# Pad losses to ensure they have the same length and interpolate\n",
    "padded_losses = []\n",
    "for opt_name in optimizers:\n",
    "    losses = opt_results[opt_name]['train_loss']\n",
    "    # Interpolating each optimizer's losses to match the finer grid\n",
    "    interpolated_losses = np.interp(epochs, range(1, len(losses) + 1), losses)\n",
    "    padded_losses.append(interpolated_losses)\n",
    "\n",
    "# Convert to a 2D array\n",
    "loss_matrix = np.array(padded_losses)\n",
    "\n",
    "# Create a grid for plotting\n",
    "X, Y = np.meshgrid(epochs, np.arange(len(optimizers)))\n",
    "\n",
    "# Plot the contour map\n",
    "plt.figure(figsize=(10, 6))\n",
    "contour = plt.contourf(X, Y, loss_matrix, cmap='viridis', levels=20)\n",
    "plt.colorbar(contour)\n",
    "\n",
    "# Add labels\n",
    "plt.title(\"Training Loss Contour Map\")\n",
    "plt.xlabel(\"Epoch\")\n",
    "plt.ylabel(\"Optimizer\")\n",
    "plt.yticks(np.arange(len(optimizers)), optimizers)\n",
    "plt.xticks(np.linspace(1, num_epochs, num_epochs))\n",
    "plt.grid(True, linestyle='--', alpha=0.6)\n",
    "\n",
    "plt.show()\n"
   ]
  },
  {
   "cell_type": "code",
   "execution_count": null,
   "metadata": {},
   "outputs": [],
   "source": []
  }
 ],
 "metadata": {
  "kernelspec": {
   "display_name": "torch",
   "language": "python",
   "name": "python3"
  },
  "language_info": {
   "codemirror_mode": {
    "name": "ipython",
    "version": 3
   },
   "file_extension": ".py",
   "mimetype": "text/x-python",
   "name": "python",
   "nbconvert_exporter": "python",
   "pygments_lexer": "ipython3",
   "version": "3.12.7"
  }
 },
 "nbformat": 4,
 "nbformat_minor": 2
}
